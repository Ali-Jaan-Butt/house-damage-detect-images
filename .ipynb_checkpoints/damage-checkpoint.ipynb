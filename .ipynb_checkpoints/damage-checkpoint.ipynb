{
 "cells": [
  {
   "cell_type": "code",
   "execution_count": 4,
   "id": "2fdd15cd-0704-42fc-ae07-38adc57580c8",
   "metadata": {},
   "outputs": [
    {
     "ename": "NameError",
     "evalue": "name 'boxes' is not defined",
     "output_type": "error",
     "traceback": [
      "\u001b[0;31m---------------------------------------------------------------------------\u001b[0m",
      "\u001b[0;31mNameError\u001b[0m                                 Traceback (most recent call last)",
      "Cell \u001b[0;32mIn[4], line 18\u001b[0m\n\u001b[1;32m     13\u001b[0m \u001b[38;5;28;01mdef\u001b[39;00m \u001b[38;5;21mparse_annotations\u001b[39m(annotation_path):\n\u001b[1;32m     14\u001b[0m     \u001b[38;5;66;03m# Implement this function to parse your annotations\u001b[39;00m\n\u001b[1;32m     15\u001b[0m     \u001b[38;5;66;03m# and return bounding boxes and labels\u001b[39;00m\n\u001b[1;32m     16\u001b[0m     \u001b[38;5;28;01mreturn\u001b[39;00m boxes, labels\n\u001b[0;32m---> 18\u001b[0m boxes, labels \u001b[38;5;241m=\u001b[39m parse_annotations(annotation_path)\n",
      "Cell \u001b[0;32mIn[4], line 16\u001b[0m, in \u001b[0;36mparse_annotations\u001b[0;34m(annotation_path)\u001b[0m\n\u001b[1;32m     13\u001b[0m \u001b[38;5;28;01mdef\u001b[39;00m \u001b[38;5;21mparse_annotations\u001b[39m(annotation_path):\n\u001b[1;32m     14\u001b[0m     \u001b[38;5;66;03m# Implement this function to parse your annotations\u001b[39;00m\n\u001b[1;32m     15\u001b[0m     \u001b[38;5;66;03m# and return bounding boxes and labels\u001b[39;00m\n\u001b[0;32m---> 16\u001b[0m     \u001b[38;5;28;01mreturn\u001b[39;00m boxes, labels\n",
      "\u001b[0;31mNameError\u001b[0m: name 'boxes' is not defined"
     ]
    }
   ],
   "source": [
    "import tensorflow as tf\n",
    "import cv2\n",
    "import os\n",
    "\n",
    "# Load image and annotation\n",
    "image_path = '/Users/hassanazhar/Python/damage_detect/Damage_Images/image01.jpg'\n",
    "annotation_path = '/Users/hassanazhar/Python/damage_detect/label_images/image01.png'\n",
    "\n",
    "image = cv2.imread(image_path)\n",
    "image = cv2.cvtColor(image, cv2.COLOR_BGR2RGB)\n",
    "\n",
    "# Example function to parse annotations\n",
    "def parse_annotations(annotation_path):\n",
    "    # Implement this function to parse your annotations\n",
    "    # and return bounding boxes and labels\n",
    "    return boxes, labels\n",
    "\n",
    "boxes, labels = parse_annotations(annotation_path)"
   ]
  },
  {
   "cell_type": "code",
   "execution_count": 3,
   "id": "247cf8b2-2109-4b16-870f-5a0e90842df4",
   "metadata": {},
   "outputs": [
    {
     "ename": "ValueError",
     "evalue": "Failed to load image at /Users/hassanazhar/Python/damage_detect/Damage_Images.",
     "output_type": "error",
     "traceback": [
      "\u001b[0;31m---------------------------------------------------------------------------\u001b[0m",
      "\u001b[0;31mValueError\u001b[0m                                Traceback (most recent call last)",
      "Cell \u001b[0;32mIn[3], line 11\u001b[0m\n\u001b[1;32m      8\u001b[0m     \u001b[38;5;28;01mreturn\u001b[39;00m image\n\u001b[1;32m     10\u001b[0m image_path \u001b[38;5;241m=\u001b[39m \u001b[38;5;124m'\u001b[39m\u001b[38;5;124m/Users/hassanazhar/Python/damage_detect/Damage_Images\u001b[39m\u001b[38;5;124m'\u001b[39m\n\u001b[0;32m---> 11\u001b[0m image \u001b[38;5;241m=\u001b[39m load_and_preprocess_image(image_path)\n",
      "Cell \u001b[0;32mIn[3], line 6\u001b[0m, in \u001b[0;36mload_and_preprocess_image\u001b[0;34m(image_path)\u001b[0m\n\u001b[1;32m      4\u001b[0m image \u001b[38;5;241m=\u001b[39m cv2\u001b[38;5;241m.\u001b[39mimread(image_path)\n\u001b[1;32m      5\u001b[0m \u001b[38;5;28;01mif\u001b[39;00m image \u001b[38;5;129;01mis\u001b[39;00m \u001b[38;5;28;01mNone\u001b[39;00m:\n\u001b[0;32m----> 6\u001b[0m     \u001b[38;5;28;01mraise\u001b[39;00m \u001b[38;5;167;01mValueError\u001b[39;00m(\u001b[38;5;124mf\u001b[39m\u001b[38;5;124m\"\u001b[39m\u001b[38;5;124mFailed to load image at \u001b[39m\u001b[38;5;132;01m{\u001b[39;00mimage_path\u001b[38;5;132;01m}\u001b[39;00m\u001b[38;5;124m.\u001b[39m\u001b[38;5;124m\"\u001b[39m)\n\u001b[1;32m      7\u001b[0m image \u001b[38;5;241m=\u001b[39m cv2\u001b[38;5;241m.\u001b[39mcvtColor(image, cv2\u001b[38;5;241m.\u001b[39mCOLOR_BGR2RGB)\n\u001b[1;32m      8\u001b[0m \u001b[38;5;28;01mreturn\u001b[39;00m image\n",
      "\u001b[0;31mValueError\u001b[0m: Failed to load image at /Users/hassanazhar/Python/damage_detect/Damage_Images."
     ]
    }
   ],
   "source": [
    "import cv2\n",
    "\n",
    "def load_and_preprocess_image(image_path):\n",
    "    image = cv2.imread(image_path)\n",
    "    if image is None:\n",
    "        raise ValueError(f\"Failed to load image at {image_path}.\")\n",
    "    image = cv2.cvtColor(image, cv2.COLOR_BGR2RGB)\n",
    "    return image\n",
    "\n",
    "image_path = '/Users/hassanazhar/Python/damage_detect/Damage_Images'\n",
    "image = load_and_preprocess_image(image_path)"
   ]
  },
  {
   "cell_type": "code",
   "execution_count": null,
   "id": "327d63a3-2393-464c-868d-5b776a056d89",
   "metadata": {},
   "outputs": [],
   "source": [
    "import pandas as pd\n",
    "\n",
    "# Example data\n",
    "data = [\n",
    "    {'filename': 'image01.png', 'xmin': 50, 'ymin': 30, 'xmax': 200, 'ymax': 180, 'label': 'damage'},\n",
    "    {'filename': 'image02.png', 'xmin': 100, 'ymin': 100, 'xmax': 300, 'ymax': 300, 'label': 'damage'},\n",
    "    {'filename': 'image03.png', 'xmin': 30, 'ymin': 50, 'xmax': 100, 'ymax': 200, 'label': 'damage'}\n",
    "    # Add more annotations as needed\n",
    "]\n",
    "\n",
    "# Convert to DataFrame\n",
    "df = pd.DataFrame(data)\n",
    "\n",
    "# Save to CSV\n",
    "df.to_csv('annotations.csv', index=False)\n"
   ]
  }
 ],
 "metadata": {
  "kernelspec": {
   "display_name": "Python 3 (ipykernel)",
   "language": "python",
   "name": "python3"
  },
  "language_info": {
   "codemirror_mode": {
    "name": "ipython",
    "version": 3
   },
   "file_extension": ".py",
   "mimetype": "text/x-python",
   "name": "python",
   "nbconvert_exporter": "python",
   "pygments_lexer": "ipython3",
   "version": "3.11.3"
  }
 },
 "nbformat": 4,
 "nbformat_minor": 5
}
